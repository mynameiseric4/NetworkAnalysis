{
 "cells": [
  {
   "cell_type": "code",
   "execution_count": 3,
   "metadata": {
    "collapsed": true
   },
   "outputs": [],
   "source": [
    "import time\n",
    "from urllib import urlencode\n",
    "import selenium.webdriver\n",
    "from bs4 import BeautifulSoup\n",
    "import itertools\n",
    "import pandas as pd\n",
    "import hashlib"
   ]
  },
  {
   "cell_type": "code",
   "execution_count": null,
   "metadata": {
    "collapsed": true
   },
   "outputs": [],
   "source": [
    "def first_search_boardgamegeek(query, browser, delay=10):\n",
    "    search_url = \"https://gateway.marvel.com:443/v1/public/characters?limit=100&apikey=dd754752a7ad1c3240f374b1c74f7ea4\"\n",
    "    browser.get(search_url)\n",
    "    #time.sleep(delay)  # Delay is unnecessary for this site\n",
    "    return browser.page_source"
   ]
  },
  {
   "cell_type": "code",
   "execution_count": 4,
   "metadata": {
    "collapsed": true
   },
   "outputs": [],
   "source": [
    "def computeMD5hash(string):\n",
    "    m = hashlib.md5()\n",
    "    m.update(string.encode('utf-8'))\n",
    "    return m.hexdigest()"
   ]
  },
  {
   "cell_type": "code",
   "execution_count": 2,
   "metadata": {
    "collapsed": false
   },
   "outputs": [
    {
     "name": "stdout",
     "output_type": "stream",
     "text": [
      "<html><head><link rel=\"alternate stylesheet\" type=\"text/css\" href=\"resource://gre-resources/plaintext.css\" title=\"Wrap Long Lines\"></head><body><pre>{\"code\":\"MissingParameter\",\"message\":\"You must provide a hash.\"}</pre></body></html>\n"
     ]
    }
   ],
   "source": [
    "browser = selenium.webdriver.Firefox()\n",
    "search_url = \"https://gateway.marvel.com:443/v1/public/characters?limit=100&apikey=dd754752a7ad1c3240f374b1c74f7ea4\"\n",
    "browser.get(search_url)\n",
    "output = browser.page_source\n",
    "browser.quit()\n",
    "\n",
    "print output"
   ]
  },
  {
   "cell_type": "code",
   "execution_count": null,
   "metadata": {
    "collapsed": true
   },
   "outputs": [],
   "source": []
  }
 ],
 "metadata": {
  "kernelspec": {
   "display_name": "Python [conda root]",
   "language": "python",
   "name": "conda-root-py"
  },
  "language_info": {
   "codemirror_mode": {
    "name": "ipython",
    "version": 2
   },
   "file_extension": ".py",
   "mimetype": "text/x-python",
   "name": "python",
   "nbconvert_exporter": "python",
   "pygments_lexer": "ipython2",
   "version": "2.7.13"
  }
 },
 "nbformat": 4,
 "nbformat_minor": 2
}
